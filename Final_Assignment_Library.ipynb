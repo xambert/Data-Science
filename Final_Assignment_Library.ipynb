{
  "cells": [
    {
      "cell_type": "markdown",
      "metadata": {
        "id": "fibB9ciEJNVs"
      },
      "source": [
        "<center>\n",
        "    <img src=\"https://s3-api.us-geo.objectstorage.softlayer.net/cf-courses-data/CognitiveClass/Logos/organization_logo/organization_logo.png\" width=\"300\" alt=\"cognitiveclass.ai logo\"  />\n",
        "</center>\n"
      ]
    },
    {
      "cell_type": "markdown",
      "metadata": {
        "id": "Y6IsBDh3JNV5"
      },
      "source": [
        "<h1>Extracting Stock Data Using a Python Library</h1>\n"
      ]
    },
    {
      "cell_type": "markdown",
      "metadata": {
        "id": "KzWV8gbuJNV7"
      },
      "source": [
        "A company's stock share is a piece of the company more precisely:\n",
        "\n",
        "<p><b>A stock (also known as equity) is a security that represents the ownership of a fraction of a corporation. This\n",
        "entitles the owner of the stock to a proportion of the corporation's assets and profits equal to how much stock they own. Units of stock are called \"shares.\" [1]</p></b>\n",
        "\n",
        "An investor can buy a stock and sell it later. If the stock price increases, the investor profits, If it decreases,the investor with incur a loss.  Determining the stock price is complex; it depends on the number of outstanding shares, the size of the company's future profits, and much more. People trade stocks throughout the day the stock ticker is a report of the price of a certain stock, updated continuously throughout the trading session by the various stock market exchanges.\n",
        "\n",
        "<p>You are a data scientist working for a hedge fund; it's your job to determine any suspicious stock activity. In this lab you will extract stock data using a Python library. We will use the <coode>yfinance</code> library, it allows us to extract data for stocks returning data in a pandas dataframe. You will use the lab to extract.</p>\n"
      ]
    },
    {
      "cell_type": "markdown",
      "metadata": {
        "id": "DBEfF0snJNV_"
      },
      "source": [
        "<h2>Table of Contents</h2>\n",
        "<div class=\"alert alert-block alert-info\" style=\"margin-top: 20px\">\n",
        "    <ul>\n",
        "        <li>Using yfinance to Extract Stock Info</li>\n",
        "        <li>Using yfinance to Extract Historical Share Price Data</li>\n",
        "        <li>Using yfinance to Extract Historical Dividends Data</li>\n",
        "        <li>Exercise</li>\n",
        "    </ul>\n",
        "<p>\n",
        "    Estimated Time Needed: <strong>30 min</strong></p>\n",
        "</div>\n",
        "\n",
        "<hr>\n"
      ]
    },
    {
      "cell_type": "code",
      "execution_count": 1,
      "metadata": {
        "colab": {
          "base_uri": "https://localhost:8080/"
        },
        "id": "EvtnlvIMJNWA",
        "outputId": "0a36a01f-c1f6-4365-fae9-7f53ac7855fa"
      },
      "outputs": [
        {
          "output_type": "stream",
          "name": "stdout",
          "text": [
            "Collecting yfinance==0.1.67\n",
            "  Downloading yfinance-0.1.67-py2.py3-none-any.whl (25 kB)\n",
            "Collecting lxml>=4.5.1\n",
            "  Downloading lxml-4.8.0-cp37-cp37m-manylinux_2_17_x86_64.manylinux2014_x86_64.manylinux_2_24_x86_64.whl (6.4 MB)\n",
            "\u001b[K     |████████████████████████████████| 6.4 MB 7.2 MB/s \n",
            "\u001b[?25hRequirement already satisfied: pandas>=0.24 in /usr/local/lib/python3.7/dist-packages (from yfinance==0.1.67) (1.3.5)\n",
            "Requirement already satisfied: requests>=2.20 in /usr/local/lib/python3.7/dist-packages (from yfinance==0.1.67) (2.23.0)\n",
            "Requirement already satisfied: multitasking>=0.0.7 in /usr/local/lib/python3.7/dist-packages (from yfinance==0.1.67) (0.0.10)\n",
            "Requirement already satisfied: numpy>=1.15 in /usr/local/lib/python3.7/dist-packages (from yfinance==0.1.67) (1.21.5)\n",
            "Requirement already satisfied: python-dateutil>=2.7.3 in /usr/local/lib/python3.7/dist-packages (from pandas>=0.24->yfinance==0.1.67) (2.8.2)\n",
            "Requirement already satisfied: pytz>=2017.3 in /usr/local/lib/python3.7/dist-packages (from pandas>=0.24->yfinance==0.1.67) (2018.9)\n",
            "Requirement already satisfied: six>=1.5 in /usr/local/lib/python3.7/dist-packages (from python-dateutil>=2.7.3->pandas>=0.24->yfinance==0.1.67) (1.15.0)\n",
            "Requirement already satisfied: idna<3,>=2.5 in /usr/local/lib/python3.7/dist-packages (from requests>=2.20->yfinance==0.1.67) (2.10)\n",
            "Requirement already satisfied: urllib3!=1.25.0,!=1.25.1,<1.26,>=1.21.1 in /usr/local/lib/python3.7/dist-packages (from requests>=2.20->yfinance==0.1.67) (1.24.3)\n",
            "Requirement already satisfied: chardet<4,>=3.0.2 in /usr/local/lib/python3.7/dist-packages (from requests>=2.20->yfinance==0.1.67) (3.0.4)\n",
            "Requirement already satisfied: certifi>=2017.4.17 in /usr/local/lib/python3.7/dist-packages (from requests>=2.20->yfinance==0.1.67) (2021.10.8)\n",
            "Installing collected packages: lxml, yfinance\n",
            "  Attempting uninstall: lxml\n",
            "    Found existing installation: lxml 4.2.6\n",
            "    Uninstalling lxml-4.2.6:\n",
            "      Successfully uninstalled lxml-4.2.6\n",
            "Successfully installed lxml-4.8.0 yfinance-0.1.67\n"
          ]
        }
      ],
      "source": [
        "!pip install yfinance==0.1.67\n",
        "#!pip install pandas==1.3.3"
      ]
    },
    {
      "cell_type": "code",
      "execution_count": 2,
      "metadata": {
        "id": "iu8JL9BBJNWD"
      },
      "outputs": [],
      "source": [
        "import yfinance as yf\n",
        "import pandas as pd"
      ]
    },
    {
      "cell_type": "markdown",
      "metadata": {
        "id": "z4EcqLBGJNWE"
      },
      "source": [
        "## Using the yfinance Library to Extract Stock Data\n"
      ]
    },
    {
      "cell_type": "markdown",
      "metadata": {
        "id": "1FFzWen3JNWH"
      },
      "source": [
        "Using the `Ticker` module we can create an object that will allow us to access functions to extract data. To do this we need to provide the ticker symbol for the stock, here the company is Apple and the ticker symbol is `AAPL`.\n"
      ]
    },
    {
      "cell_type": "code",
      "execution_count": 3,
      "metadata": {
        "id": "98NlYtZaJNWI"
      },
      "outputs": [],
      "source": [
        "apple = yf.Ticker(\"AAPL\")"
      ]
    },
    {
      "cell_type": "markdown",
      "metadata": {
        "id": "unJVIIxRJNWK"
      },
      "source": [
        "Now we can access functions and variables to extract the type of data we need. You can view them and what they represent here [https://aroussi.com/post/python-yahoo-finance](https://aroussi.com/post/python-yahoo-finance?utm_medium=Exinfluencer&utm_source=Exinfluencer&utm_content=000026UJ&utm_term=10006555&utm_id=NA-SkillsNetwork-Channel-SkillsNetworkCoursesIBMDeveloperSkillsNetworkPY0220ENSkillsNetwork23455606-2021-01-01).\n"
      ]
    },
    {
      "cell_type": "markdown",
      "metadata": {
        "id": "ltwNVt24JNWM"
      },
      "source": [
        "### Stock Info\n"
      ]
    },
    {
      "cell_type": "markdown",
      "metadata": {
        "id": "4NemMPJ2JNWN"
      },
      "source": [
        "Using the attribute  <code>info</code> we can extract information about the stock as a Python dictionary.\n"
      ]
    },
    {
      "cell_type": "code",
      "execution_count": 4,
      "metadata": {
        "colab": {
          "base_uri": "https://localhost:8080/"
        },
        "id": "8SEIp1YZJNWP",
        "outputId": "b75af81b-47d4-4e2c-abd2-f5414449d3c5"
      },
      "outputs": [
        {
          "output_type": "execute_result",
          "data": {
            "text/plain": [
              "{'52WeekChange': 0.46455383,\n",
              " 'SandP52WeekChange': 0.14711452,\n",
              " 'address1': 'One Apple Park Way',\n",
              " 'algorithm': None,\n",
              " 'annualHoldingsTurnover': None,\n",
              " 'annualReportExpenseRatio': None,\n",
              " 'ask': 0,\n",
              " 'askSize': 800,\n",
              " 'averageDailyVolume10Day': 93050320,\n",
              " 'averageVolume': 94158368,\n",
              " 'averageVolume10days': 93050320,\n",
              " 'beta': 1.185531,\n",
              " 'beta3Year': None,\n",
              " 'bid': 0,\n",
              " 'bidSize': 2900,\n",
              " 'bookValue': 4.402,\n",
              " 'category': None,\n",
              " 'circulatingSupply': None,\n",
              " 'city': 'Cupertino',\n",
              " 'companyOfficers': [],\n",
              " 'country': 'United States',\n",
              " 'currency': 'USD',\n",
              " 'currentPrice': 175.6,\n",
              " 'currentRatio': 1.038,\n",
              " 'dateShortInterest': 1647302400,\n",
              " 'dayHigh': 175.73,\n",
              " 'dayLow': 172,\n",
              " 'debtToEquity': 170.714,\n",
              " 'dividendRate': 0.88,\n",
              " 'dividendYield': 0.0050999997,\n",
              " 'earningsGrowth': 0.25,\n",
              " 'earningsQuarterlyGrowth': 0.204,\n",
              " 'ebitda': 128217997312,\n",
              " 'ebitdaMargins': 0.33890998,\n",
              " 'enterpriseToEbitda': 22.697,\n",
              " 'enterpriseToRevenue': 7.692,\n",
              " 'enterpriseValue': 2910217830400,\n",
              " 'exDividendDate': 1643932800,\n",
              " 'exchange': 'NMS',\n",
              " 'exchangeTimezoneName': 'America/New_York',\n",
              " 'exchangeTimezoneShortName': 'EDT',\n",
              " 'expireDate': None,\n",
              " 'fiftyDayAverage': 166.3802,\n",
              " 'fiftyTwoWeekHigh': 182.94,\n",
              " 'fiftyTwoWeekLow': 118.86,\n",
              " 'financialCurrency': 'USD',\n",
              " 'fiveYearAverageReturn': None,\n",
              " 'fiveYearAvgDividendYield': 1.13,\n",
              " 'floatShares': 16302795170,\n",
              " 'forwardEps': 6.56,\n",
              " 'forwardPE': 26.768293,\n",
              " 'freeCashflow': 80153247744,\n",
              " 'fromCurrency': None,\n",
              " 'fullTimeEmployees': 100000,\n",
              " 'fundFamily': None,\n",
              " 'fundInceptionDate': None,\n",
              " 'gmtOffSetMilliseconds': '-14400000',\n",
              " 'grossMargins': 0.43019,\n",
              " 'grossProfits': 152836000000,\n",
              " 'heldPercentInsiders': 0.0007,\n",
              " 'heldPercentInstitutions': 0.59405,\n",
              " 'impliedSharesOutstanding': 0,\n",
              " 'industry': 'Consumer Electronics',\n",
              " 'isEsgPopulated': False,\n",
              " 'lastCapGain': None,\n",
              " 'lastDividendDate': 1643932800,\n",
              " 'lastDividendValue': 0.22,\n",
              " 'lastFiscalYearEnd': 1632528000,\n",
              " 'lastMarket': None,\n",
              " 'lastSplitDate': 1598832000,\n",
              " 'lastSplitFactor': '4:1',\n",
              " 'legalType': None,\n",
              " 'logo_url': 'https://logo.clearbit.com/apple.com',\n",
              " 'longBusinessSummary': 'Apple Inc. designs, manufactures, and markets smartphones, personal computers, tablets, wearables, and accessories worldwide. It also sells various related services. In addition, the company offers iPhone, a line of smartphones; Mac, a line of personal computers; iPad, a line of multi-purpose tablets; AirPods Max, an over-ear wireless headphone; and wearables, home, and accessories comprising AirPods, Apple TV, Apple Watch, Beats products, HomePod, and iPod touch. Further, it provides AppleCare support services; cloud services store services; and operates various platforms, including the App Store that allow customers to discover and download applications and digital content, such as books, music, video, games, and podcasts. Additionally, the company offers various services, such as Apple Arcade, a game subscription service; Apple Music, which offers users a curated listening experience with on-demand radio stations; Apple News+, a subscription news and magazine service; Apple TV+, which offers exclusive original content; Apple Card, a co-branded credit card; and Apple Pay, a cashless payment service, as well as licenses its intellectual property. The company serves consumers, and small and mid-sized businesses; and the education, enterprise, and government markets. It distributes third-party applications for its products through the App Store. The company also sells its products through its retail and online stores, and direct sales force; and third-party cellular network carriers, wholesalers, retailers, and resellers. Apple Inc. was incorporated in 1977 and is headquartered in Cupertino, California.',\n",
              " 'longName': 'Apple Inc.',\n",
              " 'market': 'us_market',\n",
              " 'marketCap': 2865686642688,\n",
              " 'maxAge': 1,\n",
              " 'maxSupply': None,\n",
              " 'messageBoardId': 'finmb_24937',\n",
              " 'morningStarOverallRating': None,\n",
              " 'morningStarRiskRating': None,\n",
              " 'mostRecentQuarter': 1640390400,\n",
              " 'navPrice': None,\n",
              " 'netIncomeToCommon': 100554997760,\n",
              " 'nextFiscalYearEnd': 1695600000,\n",
              " 'numberOfAnalystOpinions': 44,\n",
              " 'open': 172.17,\n",
              " 'openInterest': None,\n",
              " 'operatingCashflow': 112241000448,\n",
              " 'operatingMargins': 0.309,\n",
              " 'payoutRatio': 0.1434,\n",
              " 'pegRatio': 1.92,\n",
              " 'phone': '408 996 1010',\n",
              " 'preMarketPrice': 175.77,\n",
              " 'previousClose': 174.72,\n",
              " 'priceHint': 2,\n",
              " 'priceToBook': 39.89096,\n",
              " 'priceToSalesTrailing12Months': 7.574709,\n",
              " 'profitMargins': 0.26579002,\n",
              " 'quickRatio': 0.875,\n",
              " 'quoteType': 'EQUITY',\n",
              " 'recommendationKey': 'buy',\n",
              " 'recommendationMean': 1.8,\n",
              " 'regularMarketDayHigh': 175.73,\n",
              " 'regularMarketDayLow': 172,\n",
              " 'regularMarketOpen': 172.17,\n",
              " 'regularMarketPreviousClose': 174.72,\n",
              " 'regularMarketPrice': 175.6,\n",
              " 'regularMarketVolume': 87891770,\n",
              " 'returnOnAssets': 0.19875,\n",
              " 'returnOnEquity': 1.45567,\n",
              " 'revenueGrowth': 0.112,\n",
              " 'revenuePerShare': 22.838,\n",
              " 'revenueQuarterlyGrowth': None,\n",
              " 'sector': 'Technology',\n",
              " 'sharesOutstanding': 16319399936,\n",
              " 'sharesPercentSharesOut': 0.0068,\n",
              " 'sharesShort': 111286790,\n",
              " 'sharesShortPreviousMonthDate': 1644883200,\n",
              " 'sharesShortPriorMonth': 108944701,\n",
              " 'shortName': 'Apple Inc.',\n",
              " 'shortPercentOfFloat': 0.0068,\n",
              " 'shortRatio': 1.21,\n",
              " 'startDate': None,\n",
              " 'state': 'CA',\n",
              " 'strikePrice': None,\n",
              " 'symbol': 'AAPL',\n",
              " 'targetHighPrice': 215,\n",
              " 'targetLowPrice': 160,\n",
              " 'targetMeanPrice': 193.53,\n",
              " 'targetMedianPrice': 199.5,\n",
              " 'threeYearAverageReturn': None,\n",
              " 'toCurrency': None,\n",
              " 'totalAssets': None,\n",
              " 'totalCash': 63913000960,\n",
              " 'totalCashPerShare': 3.916,\n",
              " 'totalDebt': 122797998080,\n",
              " 'totalRevenue': 378323009536,\n",
              " 'tradeable': False,\n",
              " 'trailingAnnualDividendRate': 0.865,\n",
              " 'trailingAnnualDividendYield': 0.0049507786,\n",
              " 'trailingEps': 6.015,\n",
              " 'trailingPE': 29.193684,\n",
              " 'twoHundredDayAverage': 155.79265,\n",
              " 'volume': 87891770,\n",
              " 'volume24Hr': None,\n",
              " 'volumeAllCurrencies': None,\n",
              " 'website': 'https://www.apple.com',\n",
              " 'yield': None,\n",
              " 'ytdReturn': None,\n",
              " 'zip': '95014'}"
            ]
          },
          "metadata": {},
          "execution_count": 4
        }
      ],
      "source": [
        "apple_info=apple.info\n",
        "apple_info"
      ]
    },
    {
      "cell_type": "markdown",
      "metadata": {
        "id": "FWlTu3wRJNWQ"
      },
      "source": [
        "We can get the <code>'country'</code> using the key country\n"
      ]
    },
    {
      "cell_type": "code",
      "execution_count": 5,
      "metadata": {
        "colab": {
          "base_uri": "https://localhost:8080/",
          "height": 35
        },
        "id": "pwP00nw2JNWR",
        "outputId": "63aa5267-34fb-4133-ce56-ca96d1cfbb1f"
      },
      "outputs": [
        {
          "output_type": "execute_result",
          "data": {
            "text/plain": [
              "'United States'"
            ],
            "application/vnd.google.colaboratory.intrinsic+json": {
              "type": "string"
            }
          },
          "metadata": {},
          "execution_count": 5
        }
      ],
      "source": [
        "apple_info['country']"
      ]
    },
    {
      "cell_type": "markdown",
      "metadata": {
        "id": "gk-0CdI6JNWS"
      },
      "source": [
        "### Extracting Share Price\n"
      ]
    },
    {
      "cell_type": "markdown",
      "metadata": {
        "id": "-kbGvKfiJNWT"
      },
      "source": [
        "A share is the single smallest part of a company's stock  that you can buy, the prices of these shares fluctuate over time. Using the <code>history()</code> method we can get the share price of the stock over a certain period of time. Using the `period` parameter we can set how far back from the present to get data. The options for `period` are 1 day (1d), 5d, 1 month (1mo) , 3mo, 6mo, 1 year (1y), 2y, 5y, 10y, ytd, and max.\n"
      ]
    },
    {
      "cell_type": "code",
      "execution_count": 6,
      "metadata": {
        "id": "vRjUmbWLJNWT"
      },
      "outputs": [],
      "source": [
        "apple_share_price_data = apple.history(period=\"max\")"
      ]
    },
    {
      "cell_type": "markdown",
      "metadata": {
        "id": "qNWVHA3EJNWU"
      },
      "source": [
        "The format that the data is returned in is a Pandas DataFrame. With the `Date` as the index the share `Open`, `High`, `Low`, `Close`, `Volume`, and `Stock Splits` are given for each day.\n"
      ]
    },
    {
      "cell_type": "code",
      "execution_count": 7,
      "metadata": {
        "colab": {
          "base_uri": "https://localhost:8080/",
          "height": 238
        },
        "id": "_Q6xTv-SJNWV",
        "outputId": "f5b91213-a1db-4b76-85c6-0ead14b37836"
      },
      "outputs": [
        {
          "output_type": "execute_result",
          "data": {
            "text/plain": [
              "                Open      High       Low     Close     Volume  Dividends  \\\n",
              "Date                                                                       \n",
              "1980-12-12  0.100323  0.100759  0.100323  0.100323  469033600        0.0   \n",
              "1980-12-15  0.095525  0.095525  0.095089  0.095089  175884800        0.0   \n",
              "1980-12-16  0.088546  0.088546  0.088110  0.088110  105728000        0.0   \n",
              "1980-12-17  0.090291  0.090727  0.090291  0.090291   86441600        0.0   \n",
              "1980-12-18  0.092908  0.093345  0.092908  0.092908   73449600        0.0   \n",
              "\n",
              "            Stock Splits  \n",
              "Date                      \n",
              "1980-12-12           0.0  \n",
              "1980-12-15           0.0  \n",
              "1980-12-16           0.0  \n",
              "1980-12-17           0.0  \n",
              "1980-12-18           0.0  "
            ],
            "text/html": [
              "\n",
              "  <div id=\"df-2631c35c-29e7-4530-ab8f-5f3eb9247914\">\n",
              "    <div class=\"colab-df-container\">\n",
              "      <div>\n",
              "<style scoped>\n",
              "    .dataframe tbody tr th:only-of-type {\n",
              "        vertical-align: middle;\n",
              "    }\n",
              "\n",
              "    .dataframe tbody tr th {\n",
              "        vertical-align: top;\n",
              "    }\n",
              "\n",
              "    .dataframe thead th {\n",
              "        text-align: right;\n",
              "    }\n",
              "</style>\n",
              "<table border=\"1\" class=\"dataframe\">\n",
              "  <thead>\n",
              "    <tr style=\"text-align: right;\">\n",
              "      <th></th>\n",
              "      <th>Open</th>\n",
              "      <th>High</th>\n",
              "      <th>Low</th>\n",
              "      <th>Close</th>\n",
              "      <th>Volume</th>\n",
              "      <th>Dividends</th>\n",
              "      <th>Stock Splits</th>\n",
              "    </tr>\n",
              "    <tr>\n",
              "      <th>Date</th>\n",
              "      <th></th>\n",
              "      <th></th>\n",
              "      <th></th>\n",
              "      <th></th>\n",
              "      <th></th>\n",
              "      <th></th>\n",
              "      <th></th>\n",
              "    </tr>\n",
              "  </thead>\n",
              "  <tbody>\n",
              "    <tr>\n",
              "      <th>1980-12-12</th>\n",
              "      <td>0.100323</td>\n",
              "      <td>0.100759</td>\n",
              "      <td>0.100323</td>\n",
              "      <td>0.100323</td>\n",
              "      <td>469033600</td>\n",
              "      <td>0.0</td>\n",
              "      <td>0.0</td>\n",
              "    </tr>\n",
              "    <tr>\n",
              "      <th>1980-12-15</th>\n",
              "      <td>0.095525</td>\n",
              "      <td>0.095525</td>\n",
              "      <td>0.095089</td>\n",
              "      <td>0.095089</td>\n",
              "      <td>175884800</td>\n",
              "      <td>0.0</td>\n",
              "      <td>0.0</td>\n",
              "    </tr>\n",
              "    <tr>\n",
              "      <th>1980-12-16</th>\n",
              "      <td>0.088546</td>\n",
              "      <td>0.088546</td>\n",
              "      <td>0.088110</td>\n",
              "      <td>0.088110</td>\n",
              "      <td>105728000</td>\n",
              "      <td>0.0</td>\n",
              "      <td>0.0</td>\n",
              "    </tr>\n",
              "    <tr>\n",
              "      <th>1980-12-17</th>\n",
              "      <td>0.090291</td>\n",
              "      <td>0.090727</td>\n",
              "      <td>0.090291</td>\n",
              "      <td>0.090291</td>\n",
              "      <td>86441600</td>\n",
              "      <td>0.0</td>\n",
              "      <td>0.0</td>\n",
              "    </tr>\n",
              "    <tr>\n",
              "      <th>1980-12-18</th>\n",
              "      <td>0.092908</td>\n",
              "      <td>0.093345</td>\n",
              "      <td>0.092908</td>\n",
              "      <td>0.092908</td>\n",
              "      <td>73449600</td>\n",
              "      <td>0.0</td>\n",
              "      <td>0.0</td>\n",
              "    </tr>\n",
              "  </tbody>\n",
              "</table>\n",
              "</div>\n",
              "      <button class=\"colab-df-convert\" onclick=\"convertToInteractive('df-2631c35c-29e7-4530-ab8f-5f3eb9247914')\"\n",
              "              title=\"Convert this dataframe to an interactive table.\"\n",
              "              style=\"display:none;\">\n",
              "        \n",
              "  <svg xmlns=\"http://www.w3.org/2000/svg\" height=\"24px\"viewBox=\"0 0 24 24\"\n",
              "       width=\"24px\">\n",
              "    <path d=\"M0 0h24v24H0V0z\" fill=\"none\"/>\n",
              "    <path d=\"M18.56 5.44l.94 2.06.94-2.06 2.06-.94-2.06-.94-.94-2.06-.94 2.06-2.06.94zm-11 1L8.5 8.5l.94-2.06 2.06-.94-2.06-.94L8.5 2.5l-.94 2.06-2.06.94zm10 10l.94 2.06.94-2.06 2.06-.94-2.06-.94-.94-2.06-.94 2.06-2.06.94z\"/><path d=\"M17.41 7.96l-1.37-1.37c-.4-.4-.92-.59-1.43-.59-.52 0-1.04.2-1.43.59L10.3 9.45l-7.72 7.72c-.78.78-.78 2.05 0 2.83L4 21.41c.39.39.9.59 1.41.59.51 0 1.02-.2 1.41-.59l7.78-7.78 2.81-2.81c.8-.78.8-2.07 0-2.86zM5.41 20L4 18.59l7.72-7.72 1.47 1.35L5.41 20z\"/>\n",
              "  </svg>\n",
              "      </button>\n",
              "      \n",
              "  <style>\n",
              "    .colab-df-container {\n",
              "      display:flex;\n",
              "      flex-wrap:wrap;\n",
              "      gap: 12px;\n",
              "    }\n",
              "\n",
              "    .colab-df-convert {\n",
              "      background-color: #E8F0FE;\n",
              "      border: none;\n",
              "      border-radius: 50%;\n",
              "      cursor: pointer;\n",
              "      display: none;\n",
              "      fill: #1967D2;\n",
              "      height: 32px;\n",
              "      padding: 0 0 0 0;\n",
              "      width: 32px;\n",
              "    }\n",
              "\n",
              "    .colab-df-convert:hover {\n",
              "      background-color: #E2EBFA;\n",
              "      box-shadow: 0px 1px 2px rgba(60, 64, 67, 0.3), 0px 1px 3px 1px rgba(60, 64, 67, 0.15);\n",
              "      fill: #174EA6;\n",
              "    }\n",
              "\n",
              "    [theme=dark] .colab-df-convert {\n",
              "      background-color: #3B4455;\n",
              "      fill: #D2E3FC;\n",
              "    }\n",
              "\n",
              "    [theme=dark] .colab-df-convert:hover {\n",
              "      background-color: #434B5C;\n",
              "      box-shadow: 0px 1px 3px 1px rgba(0, 0, 0, 0.15);\n",
              "      filter: drop-shadow(0px 1px 2px rgba(0, 0, 0, 0.3));\n",
              "      fill: #FFFFFF;\n",
              "    }\n",
              "  </style>\n",
              "\n",
              "      <script>\n",
              "        const buttonEl =\n",
              "          document.querySelector('#df-2631c35c-29e7-4530-ab8f-5f3eb9247914 button.colab-df-convert');\n",
              "        buttonEl.style.display =\n",
              "          google.colab.kernel.accessAllowed ? 'block' : 'none';\n",
              "\n",
              "        async function convertToInteractive(key) {\n",
              "          const element = document.querySelector('#df-2631c35c-29e7-4530-ab8f-5f3eb9247914');\n",
              "          const dataTable =\n",
              "            await google.colab.kernel.invokeFunction('convertToInteractive',\n",
              "                                                     [key], {});\n",
              "          if (!dataTable) return;\n",
              "\n",
              "          const docLinkHtml = 'Like what you see? Visit the ' +\n",
              "            '<a target=\"_blank\" href=https://colab.research.google.com/notebooks/data_table.ipynb>data table notebook</a>'\n",
              "            + ' to learn more about interactive tables.';\n",
              "          element.innerHTML = '';\n",
              "          dataTable['output_type'] = 'display_data';\n",
              "          await google.colab.output.renderOutput(dataTable, element);\n",
              "          const docLink = document.createElement('div');\n",
              "          docLink.innerHTML = docLinkHtml;\n",
              "          element.appendChild(docLink);\n",
              "        }\n",
              "      </script>\n",
              "    </div>\n",
              "  </div>\n",
              "  "
            ]
          },
          "metadata": {},
          "execution_count": 7
        }
      ],
      "source": [
        "apple_share_price_data.head()"
      ]
    },
    {
      "cell_type": "markdown",
      "metadata": {
        "id": "YueMvG_aJNWW"
      },
      "source": [
        "We can reset the index of the DataFrame with the `reset_index` function. We also set the `inplace` paramter to `True` so the change takes place to the DataFrame itself.\n"
      ]
    },
    {
      "cell_type": "code",
      "execution_count": 8,
      "metadata": {
        "id": "8gBArJL7JNWW"
      },
      "outputs": [],
      "source": [
        "apple_share_price_data.reset_index(inplace=True)"
      ]
    },
    {
      "cell_type": "markdown",
      "metadata": {
        "id": "AyzwMAz6JNWX"
      },
      "source": [
        "We can plot the `Open` price against the `Date`:\n"
      ]
    },
    {
      "cell_type": "code",
      "execution_count": 9,
      "metadata": {
        "colab": {
          "base_uri": "https://localhost:8080/",
          "height": 286
        },
        "id": "Saz0Ec9wJNWX",
        "outputId": "096b75f7-ead7-4c15-e7ba-8329b1da1d28"
      },
      "outputs": [
        {
          "output_type": "execute_result",
          "data": {
            "text/plain": [
              "<matplotlib.axes._subplots.AxesSubplot at 0x7f3de0b1fc10>"
            ]
          },
          "metadata": {},
          "execution_count": 9
        },
        {
          "output_type": "display_data",
          "data": {
            "text/plain": [
              "<Figure size 432x288 with 1 Axes>"
            ],
            "image/png": "[encoded data removed]"
          },
          "metadata": {
            "needs_background": "light"
          }
        }
      ],
      "source": [
        "apple_share_price_data.plot(x=\"Date\", y=\"Open\")"
      ]
    },
    {
      "cell_type": "markdown",
      "metadata": {
        "id": "6hZHgXtsJNWY"
      },
      "source": [
        "### Extracting Dividends\n"
      ]
    },
    {
      "cell_type": "markdown",
      "metadata": {
        "id": "zwfrzYELJNWa"
      },
      "source": [
        "Dividends are the distribution of a companys profits to shareholders. In this case they are defined as an amount of money returned per share an investor owns. Using the variable `dividends` we can get a dataframe of the data. The period of the data is given by the period defined in the 'history\\` function.\n"
      ]
    },
    {
      "cell_type": "code",
      "execution_count": 10,
      "metadata": {
        "colab": {
          "base_uri": "https://localhost:8080/"
        },
        "id": "1uUuOB7BJNWb",
        "outputId": "de0e8d12-d5ec-4be4-e338-ed9b1ba9a5a5"
      },
      "outputs": [
        {
          "output_type": "execute_result",
          "data": {
            "text/plain": [
              "Date\n",
              "1987-05-11    0.000536\n",
              "1987-08-10    0.000536\n",
              "1987-11-17    0.000714\n",
              "1988-02-12    0.000714\n",
              "1988-05-16    0.000714\n",
              "                ...   \n",
              "2021-02-05    0.205000\n",
              "2021-05-07    0.220000\n",
              "2021-08-06    0.220000\n",
              "2021-11-05    0.220000\n",
              "2022-02-04    0.220000\n",
              "Name: Dividends, Length: 74, dtype: float64"
            ]
          },
          "metadata": {},
          "execution_count": 10
        }
      ],
      "source": [
        "apple.dividends"
      ]
    },
    {
      "cell_type": "markdown",
      "metadata": {
        "id": "61-6VX6NJNWb"
      },
      "source": [
        "We can plot the dividends overtime:\n"
      ]
    },
    {
      "cell_type": "code",
      "execution_count": 11,
      "metadata": {
        "colab": {
          "base_uri": "https://localhost:8080/",
          "height": 286
        },
        "id": "nmT1mEYQJNWc",
        "outputId": "2c274ee0-5e02-48c8-a87e-bb0a8ef364b1"
      },
      "outputs": [
        {
          "output_type": "execute_result",
          "data": {
            "text/plain": [
              "<matplotlib.axes._subplots.AxesSubplot at 0x7f3de0b9c1d0>"
            ]
          },
          "metadata": {},
          "execution_count": 11
        },
        {
          "output_type": "display_data",
          "data": {
            "text/plain": [
              "<Figure size 432x288 with 1 Axes>"
            ],
            "image/png": "[encoded data removed]"
          },
          "metadata": {
            "needs_background": "light"
          }
        }
      ],
      "source": [
        "apple.dividends.plot()"
      ]
    },
    {
      "cell_type": "markdown",
      "metadata": {
        "id": "rmnYMUu9JNWd"
      },
      "source": [
        "## Exercise\n"
      ]
    },
    {
      "cell_type": "markdown",
      "metadata": {
        "id": "I9jiIYgkJNWd"
      },
      "source": [
        "Now using the `Ticker` module create an object for AMD (Advanced Micro Devices) with the ticker symbol is `AMD` called; name the object <code>amd</code>.\n"
      ]
    },
    {
      "cell_type": "code",
      "execution_count": 13,
      "metadata": {
        "id": "6bAx8vzDJNWd"
      },
      "outputs": [],
      "source": [
        "amd = yf.Ticker(\"AMD\")"
      ]
    },
    {
      "cell_type": "markdown",
      "metadata": {
        "id": "HLJ-GzdGJNWe"
      },
      "source": [
        "<b>Question 1</b> Use the key  <code>'country'</code> to find the country the stock belongs to, remember it as it will be a quiz question.\n"
      ]
    },
    {
      "cell_type": "code",
      "execution_count": 18,
      "metadata": {
        "colab": {
          "base_uri": "https://localhost:8080/",
          "height": 35
        },
        "id": "4qJdVdlXJNWe",
        "outputId": "4b0ad030-4073-4537-fc35-2739dfde19df"
      },
      "outputs": [
        {
          "output_type": "execute_result",
          "data": {
            "text/plain": [
              "'United States'"
            ],
            "application/vnd.google.colaboratory.intrinsic+json": {
              "type": "string"
            }
          },
          "metadata": {},
          "execution_count": 18
        }
      ],
      "source": [
        "amd.info[\"country\"]"
      ]
    },
    {
      "cell_type": "markdown",
      "metadata": {
        "id": "b32-OU4QJNWf"
      },
      "source": [
        "<b>Question 2</b> Use the key  <code>'sector'</code> to find the sector the stock belongs to, remember it as it will be a quiz question.\n"
      ]
    },
    {
      "cell_type": "code",
      "execution_count": 19,
      "metadata": {
        "colab": {
          "base_uri": "https://localhost:8080/",
          "height": 35
        },
        "id": "AnpEN2LIJNWf",
        "outputId": "d30d8da8-1e47-45a3-c3c1-6f4e8e7dc3d0"
      },
      "outputs": [
        {
          "output_type": "execute_result",
          "data": {
            "text/plain": [
              "'Technology'"
            ],
            "application/vnd.google.colaboratory.intrinsic+json": {
              "type": "string"
            }
          },
          "metadata": {},
          "execution_count": 19
        }
      ],
      "source": [
        "amd.info[\"sector\"]"
      ]
    },
    {
      "cell_type": "markdown",
      "metadata": {
        "id": "g1Ksu72iJNWg"
      },
      "source": [
        "<b>Question 3</b> Obtain stock data for AMD using the `history` function, set the `period` to max. Find the `Volume` traded on the first day (first row).\n"
      ]
    },
    {
      "cell_type": "code",
      "execution_count": 23,
      "metadata": {
        "id": "EDFEks4zJNWg"
      },
      "outputs": [],
      "source": [
        "his = amd.history(period = \"max\")\n",
        "his.reset_index(inplace=True)"
      ]
    },
    {
      "cell_type": "code",
      "source": [
        "his.head()"
      ],
      "metadata": {
        "colab": {
          "base_uri": "https://localhost:8080/",
          "height": 206
        },
        "id": "NMyWwDpkLIky",
        "outputId": "a8f17571-8963-4d57-9747-83d21d5ed523"
      },
      "execution_count": 24,
      "outputs": [
        {
          "output_type": "execute_result",
          "data": {
            "text/plain": [
              "        Date  Open      High       Low     Close  Volume  Dividends  \\\n",
              "0 1980-03-17   0.0  3.301172  3.124138  3.144965  219600        0.0   \n",
              "1 1980-03-18   0.0  3.124138  2.936690  3.030414  727200        0.0   \n",
              "2 1980-03-19   0.0  3.082483  3.020000  3.040828  295200        0.0   \n",
              "3 1980-03-20   0.0  3.061655  3.009587  3.009587  159600        0.0   \n",
              "4 1980-03-21   0.0  3.020000  2.905448  2.915862  130800        0.0   \n",
              "\n",
              "   Stock Splits  \n",
              "0           0.0  \n",
              "1           0.0  \n",
              "2           0.0  \n",
              "3           0.0  \n",
              "4           0.0  "
            ],
            "text/html": [
              "\n",
              "  <div id=\"df-ab142597-b573-4550-a95b-8558e7a5ce99\">\n",
              "    <div class=\"colab-df-container\">\n",
              "      <div>\n",
              "<style scoped>\n",
              "    .dataframe tbody tr th:only-of-type {\n",
              "        vertical-align: middle;\n",
              "    }\n",
              "\n",
              "    .dataframe tbody tr th {\n",
              "        vertical-align: top;\n",
              "    }\n",
              "\n",
              "    .dataframe thead th {\n",
              "        text-align: right;\n",
              "    }\n",
              "</style>\n",
              "<table border=\"1\" class=\"dataframe\">\n",
              "  <thead>\n",
              "    <tr style=\"text-align: right;\">\n",
              "      <th></th>\n",
              "      <th>Date</th>\n",
              "      <th>Open</th>\n",
              "      <th>High</th>\n",
              "      <th>Low</th>\n",
              "      <th>Close</th>\n",
              "      <th>Volume</th>\n",
              "      <th>Dividends</th>\n",
              "      <th>Stock Splits</th>\n",
              "    </tr>\n",
              "  </thead>\n",
              "  <tbody>\n",
              "    <tr>\n",
              "      <th>0</th>\n",
              "      <td>1980-03-17</td>\n",
              "      <td>0.0</td>\n",
              "      <td>3.301172</td>\n",
              "      <td>3.124138</td>\n",
              "      <td>3.144965</td>\n",
              "      <td>219600</td>\n",
              "      <td>0.0</td>\n",
              "      <td>0.0</td>\n",
              "    </tr>\n",
              "    <tr>\n",
              "      <th>1</th>\n",
              "      <td>1980-03-18</td>\n",
              "      <td>0.0</td>\n",
              "      <td>3.124138</td>\n",
              "      <td>2.936690</td>\n",
              "      <td>3.030414</td>\n",
              "      <td>727200</td>\n",
              "      <td>0.0</td>\n",
              "      <td>0.0</td>\n",
              "    </tr>\n",
              "    <tr>\n",
              "      <th>2</th>\n",
              "      <td>1980-03-19</td>\n",
              "      <td>0.0</td>\n",
              "      <td>3.082483</td>\n",
              "      <td>3.020000</td>\n",
              "      <td>3.040828</td>\n",
              "      <td>295200</td>\n",
              "      <td>0.0</td>\n",
              "      <td>0.0</td>\n",
              "    </tr>\n",
              "    <tr>\n",
              "      <th>3</th>\n",
              "      <td>1980-03-20</td>\n",
              "      <td>0.0</td>\n",
              "      <td>3.061655</td>\n",
              "      <td>3.009587</td>\n",
              "      <td>3.009587</td>\n",
              "      <td>159600</td>\n",
              "      <td>0.0</td>\n",
              "      <td>0.0</td>\n",
              "    </tr>\n",
              "    <tr>\n",
              "      <th>4</th>\n",
              "      <td>1980-03-21</td>\n",
              "      <td>0.0</td>\n",
              "      <td>3.020000</td>\n",
              "      <td>2.905448</td>\n",
              "      <td>2.915862</td>\n",
              "      <td>130800</td>\n",
              "      <td>0.0</td>\n",
              "      <td>0.0</td>\n",
              "    </tr>\n",
              "  </tbody>\n",
              "</table>\n",
              "</div>\n",
              "      <button class=\"colab-df-convert\" onclick=\"convertToInteractive('df-ab142597-b573-4550-a95b-8558e7a5ce99')\"\n",
              "              title=\"Convert this dataframe to an interactive table.\"\n",
              "              style=\"display:none;\">\n",
              "        \n",
              "  <svg xmlns=\"http://www.w3.org/2000/svg\" height=\"24px\"viewBox=\"0 0 24 24\"\n",
              "       width=\"24px\">\n",
              "    <path d=\"M0 0h24v24H0V0z\" fill=\"none\"/>\n",
              "    <path d=\"M18.56 5.44l.94 2.06.94-2.06 2.06-.94-2.06-.94-.94-2.06-.94 2.06-2.06.94zm-11 1L8.5 8.5l.94-2.06 2.06-.94-2.06-.94L8.5 2.5l-.94 2.06-2.06.94zm10 10l.94 2.06.94-2.06 2.06-.94-2.06-.94-.94-2.06-.94 2.06-2.06.94z\"/><path d=\"M17.41 7.96l-1.37-1.37c-.4-.4-.92-.59-1.43-.59-.52 0-1.04.2-1.43.59L10.3 9.45l-7.72 7.72c-.78.78-.78 2.05 0 2.83L4 21.41c.39.39.9.59 1.41.59.51 0 1.02-.2 1.41-.59l7.78-7.78 2.81-2.81c.8-.78.8-2.07 0-2.86zM5.41 20L4 18.59l7.72-7.72 1.47 1.35L5.41 20z\"/>\n",
              "  </svg>\n",
              "      </button>\n",
              "      \n",
              "  <style>\n",
              "    .colab-df-container {\n",
              "      display:flex;\n",
              "      flex-wrap:wrap;\n",
              "      gap: 12px;\n",
              "    }\n",
              "\n",
              "    .colab-df-convert {\n",
              "      background-color: #E8F0FE;\n",
              "      border: none;\n",
              "      border-radius: 50%;\n",
              "      cursor: pointer;\n",
              "      display: none;\n",
              "      fill: #1967D2;\n",
              "      height: 32px;\n",
              "      padding: 0 0 0 0;\n",
              "      width: 32px;\n",
              "    }\n",
              "\n",
              "    .colab-df-convert:hover {\n",
              "      background-color: #E2EBFA;\n",
              "      box-shadow: 0px 1px 2px rgba(60, 64, 67, 0.3), 0px 1px 3px 1px rgba(60, 64, 67, 0.15);\n",
              "      fill: #174EA6;\n",
              "    }\n",
              "\n",
              "    [theme=dark] .colab-df-convert {\n",
              "      background-color: #3B4455;\n",
              "      fill: #D2E3FC;\n",
              "    }\n",
              "\n",
              "    [theme=dark] .colab-df-convert:hover {\n",
              "      background-color: #434B5C;\n",
              "      box-shadow: 0px 1px 3px 1px rgba(0, 0, 0, 0.15);\n",
              "      filter: drop-shadow(0px 1px 2px rgba(0, 0, 0, 0.3));\n",
              "      fill: #FFFFFF;\n",
              "    }\n",
              "  </style>\n",
              "\n",
              "      <script>\n",
              "        const buttonEl =\n",
              "          document.querySelector('#df-ab142597-b573-4550-a95b-8558e7a5ce99 button.colab-df-convert');\n",
              "        buttonEl.style.display =\n",
              "          google.colab.kernel.accessAllowed ? 'block' : 'none';\n",
              "\n",
              "        async function convertToInteractive(key) {\n",
              "          const element = document.querySelector('#df-ab142597-b573-4550-a95b-8558e7a5ce99');\n",
              "          const dataTable =\n",
              "            await google.colab.kernel.invokeFunction('convertToInteractive',\n",
              "                                                     [key], {});\n",
              "          if (!dataTable) return;\n",
              "\n",
              "          const docLinkHtml = 'Like what you see? Visit the ' +\n",
              "            '<a target=\"_blank\" href=https://colab.research.google.com/notebooks/data_table.ipynb>data table notebook</a>'\n",
              "            + ' to learn more about interactive tables.';\n",
              "          element.innerHTML = '';\n",
              "          dataTable['output_type'] = 'display_data';\n",
              "          await google.colab.output.renderOutput(dataTable, element);\n",
              "          const docLink = document.createElement('div');\n",
              "          docLink.innerHTML = docLinkHtml;\n",
              "          element.appendChild(docLink);\n",
              "        }\n",
              "      </script>\n",
              "    </div>\n",
              "  </div>\n",
              "  "
            ]
          },
          "metadata": {},
          "execution_count": 24
        }
      ]
    },
    {
      "cell_type": "code",
      "source": [
        "his[\"Volume\"][0]"
      ],
      "metadata": {
        "colab": {
          "base_uri": "https://localhost:8080/"
        },
        "id": "8U_rmTU5LcNB",
        "outputId": "d5f601b0-f348-4b85-9274-2e08e0eea38a"
      },
      "execution_count": 30,
      "outputs": [
        {
          "output_type": "execute_result",
          "data": {
            "text/plain": [
              "219600"
            ]
          },
          "metadata": {},
          "execution_count": 30
        }
      ]
    },
    {
      "cell_type": "markdown",
      "metadata": {
        "id": "_F5BsnkpJNWg"
      },
      "source": [
        "<h2>About the Authors:</h2> \n",
        "\n",
        "<a href=\"https://www.linkedin.com/in/joseph-s-50398b136/?utm_medium=Exinfluencer&utm_source=Exinfluencer&utm_content=000026UJ&utm_term=10006555&utm_id=NA-SkillsNetwork-Channel-SkillsNetworkCoursesIBMDeveloperSkillsNetworkPY0220ENSkillsNetwork23455606-2021-01-01\">Joseph Santarcangelo</a> has a PhD in Electrical Engineering, his research focused on using machine learning, signal processing, and computer vision to determine how videos impact human cognition. Joseph has been working for IBM since he completed his PhD.\n",
        "\n",
        "Azim Hirjani\n"
      ]
    },
    {
      "cell_type": "markdown",
      "metadata": {
        "id": "jI9ue_O3JNWh"
      },
      "source": [
        "## Change Log\n",
        "\n",
        "| Date (YYYY-MM-DD) | Version | Changed By    | Change Description        |\n",
        "| ----------------- | ------- | ------------- | ------------------------- |\n",
        "| 2020-11-10        | 1.1     | Malika Singla | Deleted the Optional part |\n",
        "| 2020-08-27        | 1.0     | Malika Singla | Added lab to GitLab       |\n",
        "\n",
        "<hr>\n",
        "\n",
        "## <h3 align=\"center\"> © IBM Corporation 2020. All rights reserved. <h3/>\n",
        "\n",
        "<p>\n"
      ]
    }
  ],
  "metadata": {
    "kernelspec": {
      "display_name": "Python 3",
      "language": "python",
      "name": "python3"
    },
    "language_info": {
      "codemirror_mode": {
        "name": "ipython",
        "version": 3
      },
      "file_extension": ".py",
      "mimetype": "text/x-python",
      "name": "python",
      "nbconvert_exporter": "python",
      "pygments_lexer": "ipython3",
      "version": "3.8.0"
    },
    "colab": {
      "name": "Final_Assignment Library.ipynb",
      "provenance": []
    }
  },
  "nbformat": 4,
  "nbformat_minor": 0
}